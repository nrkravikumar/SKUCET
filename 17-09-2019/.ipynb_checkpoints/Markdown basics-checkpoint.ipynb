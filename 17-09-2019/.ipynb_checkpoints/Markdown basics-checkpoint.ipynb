{
 "cells": [
  {
   "cell_type": "code",
   "execution_count": 15,
   "metadata": {},
   "outputs": [
    {
     "name": "stdout",
     "output_type": "stream",
     "text": [
      "10\n",
      "161 182 161 154 176 170 167 171 170 174\n",
      "169.375\n"
     ]
    }
   ],
   "source": [
    "def average(array):\n",
    "    p=set(array)\n",
    "    sum=0\n",
    "    for i in list(p):\n",
    "        sum = sum + i\n",
    "    return sum/len(p)\n",
    "\n",
    "if __name__ == '__main__':\n",
    "    n = int(input())\n",
    "    arr = list(map(int, input().split()))\n",
    "    result = average(arr)\n",
    "    print(result)"
   ]
  },
  {
   "cell_type": "markdown",
   "metadata": {},
   "source": [
    "```\n",
    "10\n",
    "161 182 161 154 176 170 167 171 170 174\n",
    "```"
   ]
  },
  {
   "cell_type": "markdown",
   "metadata": {},
   "source": [
    "# Markdown Basics"
   ]
  },
  {
   "cell_type": "markdown",
   "metadata": {},
   "source": [
    "# Headings:"
   ]
  },
  {
   "cell_type": "markdown",
   "metadata": {},
   "source": [
    "## This is second heading\n",
    "### This is Third Heading\n",
    "#### This is Fourth Heading\n",
    "##### This is Fifth Heading\n",
    "###### This is Sixth Heading"
   ]
  },
  {
   "cell_type": "markdown",
   "metadata": {},
   "source": [
    "# Styling Text:"
   ]
  },
  {
   "cell_type": "markdown",
   "metadata": {},
   "source": [
    "## Bold:\n",
    "\n",
    "**This is for bold styling example**\n",
    "\n",
    "__This is for bold but we are using undersroll__"
   ]
  },
  {
   "cell_type": "markdown",
   "metadata": {},
   "source": [
    "## Italic:\n",
    "\n",
    "*This is for italic styling example*\n",
    "\n",
    "_This is for italic but we are using undersroll_"
   ]
  },
  {
   "cell_type": "markdown",
   "metadata": {},
   "source": [
    "## Strikethrough:\n",
    "\n",
    "~~This is for strikethrough example~~"
   ]
  },
  {
   "cell_type": "markdown",
   "metadata": {},
   "source": [
    "## Bold and Nested Italic:\n",
    "\n",
    "**This is a bold styling *This is for italic* and it can be used in unserscroll also like _This is for italic using undersroll_**"
   ]
  },
  {
   "cell_type": "markdown",
   "metadata": {},
   "source": [
    "## All Bold and Italic:\n",
    "\n",
    "***This is for all bold and italic way***"
   ]
  },
  {
   "cell_type": "markdown",
   "metadata": {},
   "source": [
    "# Quoting Text"
   ]
  },
  {
   "cell_type": "markdown",
   "metadata": {},
   "source": [
    "> This is quoting text example"
   ]
  },
  {
   "cell_type": "markdown",
   "metadata": {},
   "source": [
    "# Quoting Code\n",
    "\n",
    "This is a `Quoting Code` example\n",
    "\n",
    "\n",
    "```this is for single quoting code example\n",
    "asdfsadf\n",
    "sadfsadfasd```"
   ]
  },
  {
   "cell_type": "markdown",
   "metadata": {},
   "source": [
    "# Links"
   ]
  },
  {
   "cell_type": "markdown",
   "metadata": {},
   "source": [
    "Click here to proceed for google site [google](https://google.com)\n",
    "\n",
    "Click here to Proceed for facebook [fb](https://fb.com)\n",
    "\n",
    "Click here to proceed for youtube [youtube](https://youtube.com)\n",
    "\n",
    "Click here to Proceed for SKU site [SKU](http://skucet.ac.in)"
   ]
  },
  {
   "cell_type": "markdown",
   "metadata": {},
   "source": [
    "## Section Link"
   ]
  },
  {
   "cell_type": "markdown",
   "metadata": {},
   "source": [
    "<img src=\"sku.jpg\">"
   ]
  },
  {
   "cell_type": "markdown",
   "metadata": {},
   "source": [
    "## Relative Link"
   ]
  },
  {
   "cell_type": "markdown",
   "metadata": {},
   "source": [
    "Please see the sample text content [View](sample.txt)\n",
    "\n",
    "Please see the SKU Logo [View Here](sku.jpg)"
   ]
  },
  {
   "cell_type": "markdown",
   "metadata": {},
   "source": [
    "# Lists\n",
    "\n",
    "\n",
    "### Ordered List\n",
    "\n",
    "1. Chapter-1\n",
    "2. Chapter-2\n",
    "3. Chapter-3\n",
    "\n",
    "### UnOrdered List\n",
    "\n",
    "- Chapter-1\n",
    "    * First Sub-Chapter -1\n",
    "        - Second First Sub-Chapter -1.1\n",
    "- Chapter-2\n",
    "    * First Sub-Chapter -2\n",
    "- Chapter-3"
   ]
  },
  {
   "cell_type": "markdown",
   "metadata": {},
   "source": [
    "# Task List\n",
    "\n",
    "- [x] selected\n",
    "- [ ] a\n",
    "- [ ] b\n",
    "- [ ] \\(optional)"
   ]
  },
  {
   "cell_type": "markdown",
   "metadata": {},
   "source": [
    "# Mentioning People and teams"
   ]
  },
  {
   "cell_type": "markdown",
   "metadata": {},
   "source": [
    "@sample@gmail.com/inbox"
   ]
  },
  {
   "cell_type": "markdown",
   "metadata": {},
   "source": [
    "# Using Emoji\n",
    "\n",
    "\n",
    "Enjoy the Day 👍"
   ]
  },
  {
   "cell_type": "markdown",
   "metadata": {},
   "source": [
    "# Python Basics:"
   ]
  },
  {
   "cell_type": "markdown",
   "metadata": {},
   "source": [
    "## Variable:"
   ]
  },
  {
   "cell_type": "markdown",
   "metadata": {},
   "source": [
    "    - To store a value\n",
    "    - To change the value to a variable"
   ]
  },
  {
   "cell_type": "code",
   "execution_count": 16,
   "metadata": {},
   "outputs": [
    {
     "name": "stdout",
     "output_type": "stream",
     "text": [
      "23\n"
     ]
    },
    {
     "data": {
      "text/plain": [
       "34"
      ]
     },
     "execution_count": 16,
     "metadata": {},
     "output_type": "execute_result"
    }
   ],
   "source": [
    "a=23\n",
    "print(a)\n",
    "b=a+11\n",
    "b"
   ]
  },
  {
   "cell_type": "code",
   "execution_count": 17,
   "metadata": {},
   "outputs": [
    {
     "data": {
      "text/plain": [
       "34"
      ]
     },
     "execution_count": 17,
     "metadata": {},
     "output_type": "execute_result"
    }
   ],
   "source": [
    "a\n",
    "b"
   ]
  },
  {
   "cell_type": "code",
   "execution_count": 18,
   "metadata": {},
   "outputs": [
    {
     "name": "stdout",
     "output_type": "stream",
     "text": [
      "23\n",
      "34\n"
     ]
    }
   ],
   "source": [
    "print(a)\n",
    "print(b)"
   ]
  },
  {
   "cell_type": "code",
   "execution_count": 13,
   "metadata": {},
   "outputs": [
    {
     "name": "stdout",
     "output_type": "stream",
     "text": [
      "60\n",
      "34\n",
      "70\n",
      "120\n"
     ]
    }
   ],
   "source": [
    "'''a=60\n",
    "b=34\n",
    "c=70\n",
    "d=120\n",
    "'''\n",
    "a,b,c,d=60,34,70,120\n",
    "print(a)\n",
    "print(b)\n",
    "print(c)\n",
    "print(d)"
   ]
  },
  {
   "cell_type": "markdown",
   "metadata": {},
   "source": [
    "## Data Type"
   ]
  },
  {
   "cell_type": "markdown",
   "metadata": {},
   "source": [
    "- int -> only numeric alues\n",
    "- float -> only decimal point values \n",
    "- string -> group of characters(single quote)\n",
    "- complex -> imaginary part and real part(3+4j)"
   ]
  },
  {
   "cell_type": "markdown",
   "metadata": {},
   "source": [
    "## Type"
   ]
  },
  {
   "cell_type": "markdown",
   "metadata": {},
   "source": [
    "- To know which type of data is to be stored to a variable"
   ]
  },
  {
   "cell_type": "code",
   "execution_count": 2,
   "metadata": {},
   "outputs": [
    {
     "name": "stdout",
     "output_type": "stream",
     "text": [
      "23\n",
      "<class 'int'>\n",
      "34\n",
      "<class 'str'>\n",
      "raju\n",
      "<class 'str'>\n",
      "45.0\n",
      "<class 'float'>\n"
     ]
    }
   ],
   "source": [
    "n,m,o,p=23,'34','raju',45.00\n",
    "print(n)\n",
    "print(type(n))\n",
    "print(m)\n",
    "print(type(m))\n",
    "print(o)\n",
    "print(type(o))\n",
    "print(p)\n",
    "print(type(p))"
   ]
  },
  {
   "cell_type": "code",
   "execution_count": 3,
   "metadata": {},
   "outputs": [
    {
     "name": "stdout",
     "output_type": "stream",
     "text": [
      "23 34 raju 45.0\n",
      "<class 'int'> <class 'str'> <class 'str'> <class 'float'>\n"
     ]
    }
   ],
   "source": [
    "print(n,m,o,p)\n",
    "print(type(n),\n",
    "type(m),\n",
    "type(o),\n",
    "type(p))"
   ]
  },
  {
   "cell_type": "code",
   "execution_count": 4,
   "metadata": {},
   "outputs": [
    {
     "name": "stdout",
     "output_type": "stream",
     "text": [
      "34\n",
      "<class 'str'>\n",
      "34\n",
      "<class 'int'>\n"
     ]
    }
   ],
   "source": [
    "n='34'\n",
    "print(n)\n",
    "print(type(n))\n",
    "print(int(n))\n",
    "print(type(int(n)))"
   ]
  },
  {
   "cell_type": "code",
   "execution_count": 5,
   "metadata": {},
   "outputs": [
    {
     "data": {
      "text/plain": [
       "'34'"
      ]
     },
     "execution_count": 5,
     "metadata": {},
     "output_type": "execute_result"
    }
   ],
   "source": [
    "n"
   ]
  },
  {
   "cell_type": "code",
   "execution_count": 7,
   "metadata": {},
   "outputs": [
    {
     "name": "stdout",
     "output_type": "stream",
     "text": [
      "34\n",
      "<class 'int'>\n",
      "34 34 34 34\n"
     ]
    }
   ],
   "source": [
    "k=int(n)\n",
    "print(k)\n",
    "print(type(k))\n",
    "l=q=w=e=k\n",
    "print(l,q,w,e)"
   ]
  },
  {
   "cell_type": "markdown",
   "metadata": {},
   "source": [
    "# Dynamic Way of inputting a value"
   ]
  },
  {
   "cell_type": "code",
   "execution_count": 12,
   "metadata": {},
   "outputs": [
    {
     "name": "stdout",
     "output_type": "stream",
     "text": [
      "45.00\n",
      "45.00\n",
      "<class 'str'>\n"
     ]
    }
   ],
   "source": [
    "n=input()\n",
    "print(n)\n",
    "print(type(n))"
   ]
  },
  {
   "cell_type": "code",
   "execution_count": 19,
   "metadata": {},
   "outputs": [
    {
     "name": "stdout",
     "output_type": "stream",
     "text": [
      "34\n",
      "45.00\n",
      "34\n",
      "<class 'int'>\n",
      "45.0\n",
      "<class 'float'>\n",
      "45\n",
      "<class 'int'>\n"
     ]
    }
   ],
   "source": [
    "n=int(input())\n",
    "m=float(input())\n",
    "print(n)\n",
    "print(type(n))\n",
    "print(m)\n",
    "print(type(m))\n",
    "print(int(m))\n",
    "print(type(int(m)))"
   ]
  },
  {
   "cell_type": "markdown",
   "metadata": {},
   "source": [
    "```\n",
    "Sample Program-1\n",
    "Input: 4\n",
    "       5\n",
    "        \n",
    "Output:\n",
    "        Sum of 4 and 5 is: 9\n",
    "        Diff of 4 and 5 is: -1\n",
    "        Mul of 4 and 5 is: 20\n",
    "        Div of 4 and 5 is: 0.8\n",
    "        Mod of 4 and 5 is: 4\n",
    "        Floor Div of 4 and 5 is: 0\n",
    "        4 power of 5 is: 1024       \n",
    "```"
   ]
  },
  {
   "cell_type": "code",
   "execution_count": 33,
   "metadata": {},
   "outputs": [
    {
     "name": "stdout",
     "output_type": "stream",
     "text": [
      "4\n",
      "5\n",
      "Sum of 4 and 5 is: 9\n",
      "Diff of 4 and 5 is: -1\n",
      "Mul of 4 and 5 is: 20\n",
      "Div of 4 and 5 is: 0.8\n",
      "Mod of 4 and 5 is: 4\n",
      "Floor Div of 4 and 5 is: 0\n",
      "4 power of 5 is: 1024\n"
     ]
    }
   ],
   "source": [
    "n=int(input())\n",
    "m=int(input())\n",
    "print(\"Sum of {} and {} is: {}\".format(n,m,n+m))\n",
    "print(\"Diff of {} and {} is: {}\".format(n,m,n-m))\n",
    "print(\"Mul of {} and {} is: {}\".format(n,m,n*m))\n",
    "print(\"Div of {} and {} is: {}\".format(n,m,n/m))\n",
    "print(\"Mod of {} and {} is: {}\".format(n,m,n%m))\n",
    "print(\"Floor Div of {} and {} is: {}\".format(n,m,n//m))\n",
    "print(\"{} power of {} is: {}\".format(n,m,n**m))"
   ]
  },
  {
   "cell_type": "markdown",
   "metadata": {},
   "source": []
  }
 ],
 "metadata": {
  "kernelspec": {
   "display_name": "Python 3",
   "language": "python",
   "name": "python3"
  },
  "language_info": {
   "codemirror_mode": {
    "name": "ipython",
    "version": 3
   },
   "file_extension": ".py",
   "mimetype": "text/x-python",
   "name": "python",
   "nbconvert_exporter": "python",
   "pygments_lexer": "ipython3",
   "version": "3.7.3"
  }
 },
 "nbformat": 4,
 "nbformat_minor": 2
}
