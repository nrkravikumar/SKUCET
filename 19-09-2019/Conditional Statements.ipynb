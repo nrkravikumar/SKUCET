{
 "cells": [
  {
   "cell_type": "markdown",
   "metadata": {},
   "source": [
    "# Conditional Statements\n",
    "\n",
    "```\n",
    " - To Check whether a given condition is either true or false\n",
    " \n",
    " -> If -> single case condition\n",
    "     syntax:\n",
    "             if condition: (optional) -> T or F\n",
    "                 //stmnts\n",
    " \n",
    " -> If - else -> two cases conditions\n",
    "     syntax:\n",
    "             if condition: (optional) -> T\n",
    "                 //stmnts\n",
    "             else: -> F\n",
    "                 //stmnts\n",
    " \n",
    " -> elif -> three or more cases conditions\n",
    "     syntax:\n",
    "             if condition: (optional) -> T or F\n",
    "                 //stmnts-1\n",
    "             elif condition: -> T or F\n",
    "                 //stmnts-2\n",
    "             elif condition: -> T or F\n",
    "                 //stmnts-3\n",
    "             elif condition: -> T or F\n",
    "                 //stmnts-4\n",
    "             else:\n",
    "                 //stmnts-5\n",
    "                 \n",
    " -> nested if -> true -> if-else -> false\n",
    "     syntax:\n",
    "             if condition: -> T\n",
    "                 if condition: -> T\n",
    "                     //stmnt\n",
    "                 else: -> F\n",
    "                     //stmnt\n",
    "             else: -> F\n",
    "                 //stmnt\n",
    " \n",
    "```"
   ]
  },
  {
   "cell_type": "markdown",
   "metadata": {},
   "source": [
    "```\n",
    "Sample Program-1:\n",
    "    \n",
    "    Input: 55\n",
    "    Output: Given number 55 is divisible by 5\n",
    "    Input: 3\n",
    "    Output:\n",
    "    \n",
    "```"
   ]
  },
  {
   "cell_type": "code",
   "execution_count": 4,
   "metadata": {},
   "outputs": [
    {
     "name": "stdout",
     "output_type": "stream",
     "text": [
      "55\n",
      "Given number 55 is divisible by 5\n"
     ]
    }
   ],
   "source": [
    "n=int(input())\n",
    "if n%5==0:\n",
    "    print(\"Given number {} is divisible by 5\".format(n))"
   ]
  },
  {
   "cell_type": "markdown",
   "metadata": {},
   "source": [
    "```\n",
    "Sample Program-2:\n",
    "    Input: 3\n",
    "    Output: Given number 3 is Odd\n",
    "    Input: 4\n",
    "    Output: Given number 4 is Even\n",
    "```"
   ]
  },
  {
   "cell_type": "code",
   "execution_count": 6,
   "metadata": {},
   "outputs": [
    {
     "name": "stdout",
     "output_type": "stream",
     "text": [
      "4\n",
      "Given number 4 is Even\n"
     ]
    }
   ],
   "source": [
    "n=int(input())\n",
    "if n%2==0:\n",
    "    print(\"Given number {} is Even\".format(n))\n",
    "else:\n",
    "    print(\"Given number {} is Odd\".format(n))"
   ]
  },
  {
   "cell_type": "markdown",
   "metadata": {},
   "source": [
    "```\n",
    "Sample Program-3:\n",
    "    Input: 50\n",
    "    Output: Given number 50 is divisible by 5\n",
    "    Input: 9\n",
    "    Output: Given number 9 is divisible by 3\n",
    "    Input: 8\n",
    "    Output: Given number 8 is Even\n",
    "    Input: 11\n",
    "    Output: Given number 11 is Odd\n",
    "```"
   ]
  },
  {
   "cell_type": "code",
   "execution_count": 10,
   "metadata": {},
   "outputs": [
    {
     "name": "stdout",
     "output_type": "stream",
     "text": [
      "11\n",
      "Given number 11 is Odd\n"
     ]
    }
   ],
   "source": [
    "n=int(input())\n",
    "if n%5==0:\n",
    "    print(\"Given number {} is divisible by 5\".format(n))\n",
    "elif n%3==0:\n",
    "    print(\"Given number {} is divisible by 3\".format(n))\n",
    "elif n%2==0:\n",
    "    print(\"Given number {} is Even\".format(n))\n",
    "else:\n",
    "    print(\"Given number {} is Odd\".format(n))"
   ]
  },
  {
   "cell_type": "markdown",
   "metadata": {},
   "source": [
    "```\n",
    "Sample Program-4:\n",
    "        \n",
    "        Fixed values: User= 333 Pwd= 123\n",
    "    \n",
    "    Input: 333\n",
    "           123\n",
    "    Output: Welcome 333\n",
    "    Input: 123\n",
    "           123\n",
    "    Output: Given Username 123 is Invalid\n",
    "    Input: 333\n",
    "           124\n",
    "    Output: Given Password 124 is Invalid\n",
    "```"
   ]
  },
  {
   "cell_type": "code",
   "execution_count": 13,
   "metadata": {},
   "outputs": [
    {
     "name": "stdout",
     "output_type": "stream",
     "text": [
      "333\n",
      "124\n",
      "Given Password 124 is Invalid\n"
     ]
    }
   ],
   "source": [
    "uid=int(input())\n",
    "pwd=int(input())\n",
    "if uid==333:\n",
    "    if pwd==123:\n",
    "        print(\"Welcome {}\".format(uid))\n",
    "    else:\n",
    "        print(\"Given Password {} is Invalid\".format(pwd))\n",
    "else:\n",
    "    print(\"Given Username {} is Invalid\".format(uid))"
   ]
  },
  {
   "cell_type": "code",
   "execution_count": 16,
   "metadata": {},
   "outputs": [
    {
     "name": "stdout",
     "output_type": "stream",
     "text": [
      "333\n",
      "123\n",
      "Welcome 333\n"
     ]
    }
   ],
   "source": [
    "uid=int(input())\n",
    "if uid==333:\n",
    "    pwd=int(input())\n",
    "    if pwd==123:\n",
    "        print(\"Welcome {}\".format(uid))\n",
    "    else:\n",
    "        print(\"Given Password {} is Invalid\".format(pwd))\n",
    "else:\n",
    "    print(\"Given Username {} is Invalid\".format(uid))"
   ]
  },
  {
   "cell_type": "code",
   "execution_count": 21,
   "metadata": {},
   "outputs": [
    {
     "name": "stdout",
     "output_type": "stream",
     "text": [
      "Create ur userid to login:345\n",
      "Create ur Password to login:345\n",
      "345\n",
      "111\n",
      "Welcome 345\n"
     ]
    }
   ],
   "source": [
    "n=int(input(\"Create ur userid to login:\"))\n",
    "m=int(input(\"Create ur Password to login:\"))\n",
    "uid=int(input())\n",
    "if uid==n:\n",
    "    pwd=int(input())\n",
    "    if ((pwd==m)or(pwd==111)):\n",
    "        print(\"Welcome {}\".format(uid))\n",
    "    else:\n",
    "        print(\"Given Password {} is Invalid\".format(pwd))\n",
    "else:\n",
    "    print(\"Given Username {} is Invalid\".format(uid))"
   ]
  },
  {
   "cell_type": "markdown",
   "metadata": {},
   "source": [
    "# Hackerrank Problems:"
   ]
  },
  {
   "cell_type": "markdown",
   "metadata": {},
   "source": [
    "### Python If-else:"
   ]
  },
  {
   "cell_type": "code",
   "execution_count": 1,
   "metadata": {},
   "outputs": [
    {
     "name": "stdout",
     "output_type": "stream",
     "text": [
      "24\n",
      "Not Weird\n"
     ]
    }
   ],
   "source": [
    "n=int(input())\n",
    "if n%2==1:\n",
    "    print(\"Weird\")\n",
    "else:\n",
    "    if n>=2 and n<=5:\n",
    "        print(\"Not Weird\")\n",
    "    elif n>=6 and n<=20:\n",
    "        print(\"Weird\")\n",
    "    else:\n",
    "        print(\"Not Weird\")"
   ]
  },
  {
   "cell_type": "code",
   "execution_count": 2,
   "metadata": {},
   "outputs": [
    {
     "name": "stdout",
     "output_type": "stream",
     "text": [
      "24\n",
      "Not Weird\n"
     ]
    }
   ],
   "source": [
    "n=int(input())\n",
    "if n%2==1:\n",
    "    print(\"Weird\")\n",
    "else:\n",
    "    if ((n>=2 and n<=5) or (n>20)):\n",
    "        print(\"Not Weird\")\n",
    "    else:\n",
    "        print(\"Weird\")"
   ]
  },
  {
   "cell_type": "markdown",
   "metadata": {},
   "source": [
    "```\n",
    "Hackerrank Problems\n",
    "Python Division\n",
    "Arithmetic Operators\n",
    "Python If-else\n",
    "Hello World\n",
    "```"
   ]
  },
  {
   "cell_type": "markdown",
   "metadata": {},
   "source": [
    "# Control Statements or Iterators or Loops or Repitition"
   ]
  },
  {
   "cell_type": "markdown",
   "metadata": {},
   "source": [
    "```\n",
    "- For -> To particular range\n",
    "     syntax:\n",
    "             for iteration_variable in condition:\n",
    "                 //stmnts\n",
    " - While -> Infinity Loop\n",
    "     syntax:\n",
    "             while condition:\n",
    "                 //stmnts\n",
    "```"
   ]
  },
  {
   "cell_type": "code",
   "execution_count": 18,
   "metadata": {},
   "outputs": [
    {
     "name": "stdout",
     "output_type": "stream",
     "text": [
      "6\n",
      "6 4 2 "
     ]
    }
   ],
   "source": [
    "n=int(input())\n",
    "for i in range(n,0,-2):\n",
    "    print(i,end=\" \")"
   ]
  },
  {
   "cell_type": "code",
   "execution_count": 24,
   "metadata": {},
   "outputs": [
    {
     "name": "stdout",
     "output_type": "stream",
     "text": [
      "10\n",
      "1710101 1810101\n",
      "1710102 1810102\n",
      "1710103 1810103\n",
      "1710104 1810104\n",
      "1710105 1810105\n",
      "1710106 1810106\n",
      "1710107 1810107\n",
      "1710108 1810108\n",
      "1710109 1810109\n",
      "1710110 1810110\n"
     ]
    }
   ],
   "source": [
    "n=int(input())\n",
    "for i in range(1,n+1):\n",
    "    '''if i<=9:\n",
    "        print(\"171010{}\".format(i))\n",
    "    else:\n",
    "        print(\"17101{}\".format(i))'''\n",
    "    print(\"17101%02d 18101%02d\"%(i,i))\n",
    "    "
   ]
  },
  {
   "cell_type": "code",
   "execution_count": 25,
   "metadata": {},
   "outputs": [
    {
     "name": "stdout",
     "output_type": "stream",
     "text": [
      "100\n",
      "120\n",
      "100 101 102 103 104 105 106 107 108 109 110 111 112 113 114 115 116 117 118 119 120 "
     ]
    }
   ],
   "source": [
    "n=int(input())\n",
    "m=int(input())\n",
    "for i in range(n,m+1):\n",
    "    print(i,end=\" \")"
   ]
  },
  {
   "cell_type": "code",
   "execution_count": 32,
   "metadata": {},
   "outputs": [
    {
     "name": "stdout",
     "output_type": "stream",
     "text": [
      "5\n",
      "6\n",
      "5 x 1 = 5\n",
      "5 x 2 = 10\n",
      "5 x 3 = 15\n",
      "5 x 4 = 20\n",
      "5 x 5 = 25\n",
      "5 x 6 = 30\n"
     ]
    }
   ],
   "source": [
    "n=int(input())\n",
    "m=int(input())\n",
    "for i in range(1,m+1):\n",
    "    print(\"{} x {} = {}\".format(n,i,n*i))"
   ]
  },
  {
   "cell_type": "code",
   "execution_count": null,
   "metadata": {},
   "outputs": [],
   "source": [
    "0 5 4 15 8 25\n",
    "0 -> 2*0=0\n",
    "1 -> 5*1=5\n",
    "2 -> 2*2=4\n",
    "3 -> 5*3=15\n",
    "4 -> 2*4=8\n",
    "5 -> 5*5=25"
   ]
  },
  {
   "cell_type": "code",
   "execution_count": 35,
   "metadata": {},
   "outputs": [
    {
     "name": "stdout",
     "output_type": "stream",
     "text": [
      "20\n",
      "0 5 4 15 8 25 12 35 16 45 20 55 24 65 28 75 32 85 36 95 "
     ]
    }
   ],
   "source": [
    "n=int(input())\n",
    "for i in range(n):\n",
    "    if i%2==0:\n",
    "        print(\"{}\".format(i*2),end=\" \")\n",
    "    else:\n",
    "        print(\"{}\".format(i*5),end=\" \")"
   ]
  },
  {
   "cell_type": "code",
   "execution_count": 39,
   "metadata": {},
   "outputs": [
    {
     "name": "stdout",
     "output_type": "stream",
     "text": [
      "5\n",
      "2 3 7 4 6 14 6 9 21 8 12 28 10 15 35 "
     ]
    }
   ],
   "source": [
    "n=int(input())\n",
    "for i in range(1,n+1):\n",
    "    print(\"{} {} {}\".format(i*2,i*3,i*7),end=\" \")"
   ]
  },
  {
   "cell_type": "code",
   "execution_count": 40,
   "metadata": {},
   "outputs": [
    {
     "name": "stdout",
     "output_type": "stream",
     "text": [
      "12387162873172538273564523987462635467\n",
      "Given number is: 12387162873172538273564523987462635467 and its length is: 38\n"
     ]
    }
   ],
   "source": [
    "n=int(input())\n",
    "count=0\n",
    "p=n\n",
    "while n!=0:\n",
    "    count=count+1\n",
    "    n=n//10\n",
    "print(\"Given number is: {} and its length is: {}\".format(p,count))"
   ]
  },
  {
   "cell_type": "code",
   "execution_count": 42,
   "metadata": {},
   "outputs": [
    {
     "name": "stdout",
     "output_type": "stream",
     "text": [
      "12387162873172538273564523987462635467\n",
      "38\n"
     ]
    }
   ],
   "source": [
    "n=input()\n",
    "print(len(n))"
   ]
  },
  {
   "cell_type": "code",
   "execution_count": 45,
   "metadata": {},
   "outputs": [
    {
     "name": "stdout",
     "output_type": "stream",
     "text": [
      "123172635752163912361827356918253612391825371256371296356152376123123123\n",
      "Given number is: 123172635752163912361827356918253612391825371256371296356152376123123123\n",
      "Length is: 72\n",
      "Reverse of number is: 321321321673251653692173652173528193216352819653728163219361257536271321\n"
     ]
    }
   ],
   "source": [
    "n=int(input())\n",
    "count=rev=0\n",
    "p=n\n",
    "while n!=0:\n",
    "    rev=rev*10+n%10\n",
    "    count=count+1\n",
    "    n=n//10\n",
    "print(\"Given number is: {}\\nLength is: {}\\nReverse of number is: {}\"\n",
    "      .format(p,count,rev))"
   ]
  },
  {
   "cell_type": "code",
   "execution_count": null,
   "metadata": {},
   "outputs": [],
   "source": []
  }
 ],
 "metadata": {
  "kernelspec": {
   "display_name": "Python 3",
   "language": "python",
   "name": "python3"
  },
  "language_info": {
   "codemirror_mode": {
    "name": "ipython",
    "version": 3
   },
   "file_extension": ".py",
   "mimetype": "text/x-python",
   "name": "python",
   "nbconvert_exporter": "python",
   "pygments_lexer": "ipython3",
   "version": "3.7.3"
  }
 },
 "nbformat": 4,
 "nbformat_minor": 2
}
