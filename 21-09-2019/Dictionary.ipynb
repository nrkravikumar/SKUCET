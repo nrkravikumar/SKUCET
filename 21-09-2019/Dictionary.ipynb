{
 "cells": [
  {
   "cell_type": "code",
   "execution_count": 2,
   "metadata": {},
   "outputs": [
    {
     "name": "stdout",
     "output_type": "stream",
     "text": [
      "5\n",
      "1\n",
      "1\n",
      "4\n",
      "3\n",
      "5\n",
      "[1, 1, 4, 3, 5]\n",
      "1 => 2\n",
      "3 => 1\n",
      "4 => 1\n",
      "5 => 1\n",
      "[1, 1, 4, 3, 5]\n"
     ]
    }
   ],
   "source": [
    "def dplcnt(ll):\n",
    "    for i in set(ll):\n",
    "        print(i,\"=>\",ll.count(i))\n",
    "    return\n",
    "\n",
    "n=int(input())\n",
    "li=[]\n",
    "for i in range(1,n+1):\n",
    "    m=int(input())\n",
    "    li.append(m)\n",
    "print(li)\n",
    "dplcnt(li)"
   ]
  },
  {
   "cell_type": "markdown",
   "metadata": {},
   "source": [
    "# Dictionary"
   ]
  },
  {
   "cell_type": "code",
   "execution_count": 4,
   "metadata": {},
   "outputs": [
    {
     "name": "stdout",
     "output_type": "stream",
     "text": [
      "{'sno': 12, 'name': 'Raju', 'age': 24}\n",
      "dict_items([('sno', 12), ('name', 'Raju'), ('age', 24)])\n"
     ]
    }
   ],
   "source": [
    "g={'sno':12,'name':'Raju','age':24}\n",
    "print(g)\n",
    "print(g.items())"
   ]
  },
  {
   "cell_type": "code",
   "execution_count": 5,
   "metadata": {},
   "outputs": [
    {
     "name": "stdout",
     "output_type": "stream",
     "text": [
      "['__class__', '__contains__', '__delattr__', '__delitem__', '__dir__', '__doc__', '__eq__', '__format__', '__ge__', '__getattribute__', '__getitem__', '__gt__', '__hash__', '__init__', '__init_subclass__', '__iter__', '__le__', '__len__', '__lt__', '__ne__', '__new__', '__reduce__', '__reduce_ex__', '__repr__', '__setattr__', '__setitem__', '__sizeof__', '__str__', '__subclasshook__', 'clear', 'copy', 'fromkeys', 'get', 'items', 'keys', 'pop', 'popitem', 'setdefault', 'update', 'values']\n"
     ]
    }
   ],
   "source": [
    "print(dir(dict))"
   ]
  },
  {
   "cell_type": "code",
   "execution_count": 18,
   "metadata": {},
   "outputs": [
    {
     "name": "stdout",
     "output_type": "stream",
     "text": [
      "{'sno': 12, 'name': 'Raju', 'age': 24}\n",
      "dict_keys(['sno', 'name', 'age'])\n",
      "dict_values([12, 'Raju', 24])\n",
      "12\n",
      "12\n",
      "('age', 24)\n",
      "{'name': 'Raju'}\n",
      "None\n"
     ]
    }
   ],
   "source": [
    "g={'sno':12,'name':'Raju','age':24}\n",
    "print(g)\n",
    "print(g.keys())\n",
    "print(g.values())\n",
    "print(g.get('sno'))\n",
    "print(g.pop('sno'))\n",
    "print(g.popitem())\n",
    "print(g)\n",
    "print(g.clear())"
   ]
  },
  {
   "cell_type": "markdown",
   "metadata": {},
   "source": [
    "### List,Dictionary and tuples Comprehensions:"
   ]
  },
  {
   "cell_type": "code",
   "execution_count": 21,
   "metadata": {},
   "outputs": [
    {
     "name": "stdout",
     "output_type": "stream",
     "text": [
      "20\n",
      "[1, 2, 3, 4, 5, 6, 7, 8, 9, 10, 11, 12, 13, 14, 15, 16, 17, 18, 19, 20]\n"
     ]
    }
   ],
   "source": [
    "n=int(input())\n",
    "k=[i for i in range(1,n+1)]\n",
    "print(k)"
   ]
  },
  {
   "cell_type": "code",
   "execution_count": 27,
   "metadata": {},
   "outputs": [
    {
     "name": "stdout",
     "output_type": "stream",
     "text": [
      "5\n",
      "(2, 4, 6, 8, 10)\n",
      "[3, 6, 9, 12, 15]\n"
     ]
    }
   ],
   "source": [
    "n=int(input())\n",
    "k=tuple(2*i for i in range(1,n+1))\n",
    "m=[3*i for i in range(1,n+1)]\n",
    "print(k)\n",
    "print(m)"
   ]
  },
  {
   "cell_type": "code",
   "execution_count": 29,
   "metadata": {},
   "outputs": [
    {
     "name": "stdout",
     "output_type": "stream",
     "text": [
      "5\n",
      "[1, 2, 3, 4]\n"
     ]
    }
   ],
   "source": [
    "k=[i for i in range(1,int(input()))]\n",
    "print(k)"
   ]
  },
  {
   "cell_type": "code",
   "execution_count": 6,
   "metadata": {},
   "outputs": [
    {
     "name": "stdout",
     "output_type": "stream",
     "text": [
      "5\n",
      "[1, 2, 3, 4, 5, 2, 4, 6, 8, 10, 3, 6, 9, 12, 15, 4, 8, 12, 16, 20, 5, 10, 15, 20, 25]\n"
     ]
    }
   ],
   "source": [
    "n=int(input())\n",
    "l=[x*y for x in range(1,n+1) for y in range(1,n+1)]\n",
    "print(l)"
   ]
  },
  {
   "cell_type": "code",
   "execution_count": 15,
   "metadata": {},
   "outputs": [
    {
     "name": "stdout",
     "output_type": "stream",
     "text": [
      "[2, 3, 5, 6, 8, 9]\n"
     ]
    }
   ],
   "source": [
    "t=('3','5','6','2','8','9','3','2','2')\n",
    "l=set(int(i) for i in t)\n",
    "l=list(l)\n",
    "print(l)"
   ]
  },
  {
   "cell_type": "code",
   "execution_count": 53,
   "metadata": {},
   "outputs": [
    {
     "name": "stdout",
     "output_type": "stream",
     "text": [
      "{'sno': 2, 'name': 'raju', 'age': 23}\n"
     ]
    }
   ],
   "source": [
    "k=['sno','name','age','sal']\n",
    "v=[2,'raju',23]\n",
    "l={i:j for i,j in zip(k,v)}\n",
    "print(l)"
   ]
  },
  {
   "cell_type": "markdown",
   "metadata": {},
   "source": [
    "## Iterators and Generators:"
   ]
  },
  {
   "cell_type": "markdown",
   "metadata": {},
   "source": [
    "```\n",
    "Iterators -> iter() -> List,tuple,set,string \n",
    "             next() -> each index position repeat iter\n",
    "        \n",
    "Generators -> yield()\n",
    "```"
   ]
  },
  {
   "cell_type": "code",
   "execution_count": 99,
   "metadata": {},
   "outputs": [
    {
     "name": "stdout",
     "output_type": "stream",
     "text": [
      "P\n",
      "y\n",
      "t\n",
      "h\n",
      "o\n",
      "n\n"
     ]
    }
   ],
   "source": [
    "k=\"Python\"\n",
    "l=iter(k)\n",
    "for i in k:\n",
    "    print(next(l))"
   ]
  },
  {
   "cell_type": "code",
   "execution_count": 96,
   "metadata": {},
   "outputs": [
    {
     "name": "stdout",
     "output_type": "stream",
     "text": [
      "c\n",
      "python\n",
      "java\n"
     ]
    }
   ],
   "source": [
    "k=['c','python','java']\n",
    "l=iter(k)\n",
    "for i in k:\n",
    "    print(next(l))"
   ]
  },
  {
   "cell_type": "code",
   "execution_count": 104,
   "metadata": {},
   "outputs": [
    {
     "name": "stdout",
     "output_type": "stream",
     "text": [
      "Python\n",
      "Python"
     ]
    }
   ],
   "source": [
    "def stit(l):\n",
    "    ll=iter(l)\n",
    "    for i in l:\n",
    "        print(next(ll),end=\"\")\n",
    "    return \n",
    "\n",
    "k=input()\n",
    "stit(k)"
   ]
  },
  {
   "cell_type": "markdown",
   "metadata": {},
   "source": [
    "## Generators:\n",
    "     -> Yield -> return a value"
   ]
  },
  {
   "cell_type": "code",
   "execution_count": 105,
   "metadata": {},
   "outputs": [
    {
     "name": "stdout",
     "output_type": "stream",
     "text": [
      "2\n",
      "4\n"
     ]
    }
   ],
   "source": [
    "def gen():\n",
    "    yield 2\n",
    "    yield 4\n",
    "\n",
    "for i in gen():\n",
    "    print(i)"
   ]
  },
  {
   "cell_type": "code",
   "execution_count": 114,
   "metadata": {},
   "outputs": [
    {
     "name": "stdout",
     "output_type": "stream",
     "text": [
      "4\n",
      "2 4 8 16 "
     ]
    }
   ],
   "source": [
    "def sq(l):\n",
    "    n=2\n",
    "    while True:\n",
    "        n=n**l\n",
    "        yield n\n",
    "\n",
    "n=int(input())\n",
    "for i in range(1,n+1):\n",
    "    print(next(sq(i)),end=\" \")"
   ]
  },
  {
   "cell_type": "code",
   "execution_count": null,
   "metadata": {},
   "outputs": [],
   "source": []
  }
 ],
 "metadata": {
  "kernelspec": {
   "display_name": "Python 3",
   "language": "python",
   "name": "python3"
  },
  "language_info": {
   "codemirror_mode": {
    "name": "ipython",
    "version": 3
   },
   "file_extension": ".py",
   "mimetype": "text/x-python",
   "name": "python",
   "nbconvert_exporter": "python",
   "pygments_lexer": "ipython3",
   "version": "3.7.3"
  }
 },
 "nbformat": 4,
 "nbformat_minor": 2
}
