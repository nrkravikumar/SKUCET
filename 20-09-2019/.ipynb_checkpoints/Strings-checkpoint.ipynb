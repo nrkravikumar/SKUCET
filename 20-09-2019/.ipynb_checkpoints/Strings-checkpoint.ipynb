{
 "cells": [
  {
   "cell_type": "code",
   "execution_count": 5,
   "metadata": {},
   "outputs": [
    {
     "name": "stdout",
     "output_type": "stream",
     "text": [
      "123789152319263757324527347289341702347615432\n",
      "Given number is: 123789152319263757324527347289341702347615432\n",
      "Reverse of a number is: 234516743207143982743725423757362913251987321\n",
      "Even number count is: 18\n",
      "Odd number count is: 27\n",
      "Length of a number is: 45\n"
     ]
    }
   ],
   "source": [
    "n=int(input())\n",
    "rev=ec=od=co=0\n",
    "p=n\n",
    "while n!=0:\n",
    "    k=n%10\n",
    "    co+=1\n",
    "    if k%2==0:\n",
    "        ec+=1\n",
    "    else:\n",
    "        od+=1\n",
    "    rev=rev*10+k\n",
    "    n=n//10\n",
    "print(\"Given number is: {}\\nReverse of a number is: {}\\n\"\n",
    "\"Even number count is: {}\\nOdd number count is: {}\\n\"\n",
    "\"Length of a number is: {}\".format(p,rev,ec,od,co))"
   ]
  },
  {
   "cell_type": "markdown",
   "metadata": {},
   "source": [
    "# Strings:"
   ]
  },
  {
   "cell_type": "code",
   "execution_count": 30,
   "metadata": {},
   "outputs": [
    {
     "name": "stdout",
     "output_type": "stream",
     "text": [
      "Python Course\n",
      "Python Course\n",
      "13\n",
      "P\n",
      "y\n",
      "t\n",
      "ython Course\n",
      "P\n",
      "Python Cours\n",
      "e\n",
      "noh\n",
      "esruoC nohtyP\n"
     ]
    }
   ],
   "source": [
    "s=\"Python Course\"\n",
    "print(s)\n",
    "print(s[:])\n",
    "print(len(s))\n",
    "print(s[0])\n",
    "print(s[1]) #s[startingpoint:endpoint]\n",
    "print(s[-11])\n",
    "print(s[1:])\n",
    "print(s[:1])\n",
    "print(s[:-1])\n",
    "print(s[-1:])\n",
    "print(s[5:2:-1]) #s[startingpoint:endpoint:skipping]\n",
    "print(s[-1::-1])"
   ]
  },
  {
   "cell_type": "code",
   "execution_count": 15,
   "metadata": {},
   "outputs": [
    {
     "name": "stdout",
     "output_type": "stream",
     "text": [
      "P y t h o n   C o u r s e "
     ]
    }
   ],
   "source": [
    "s=\"Python Course\"\n",
    "for i in s:\n",
    "    print(i,end=\" \")"
   ]
  },
  {
   "cell_type": "code",
   "execution_count": 31,
   "metadata": {},
   "outputs": [
    {
     "name": "stdout",
     "output_type": "stream",
     "text": [
      "['__add__', '__class__', '__contains__', '__delattr__', '__dir__', '__doc__', '__eq__', '__format__', '__ge__', '__getattribute__', '__getitem__', '__getnewargs__', '__gt__', '__hash__', '__init__', '__init_subclass__', '__iter__', '__le__', '__len__', '__lt__', '__mod__', '__mul__', '__ne__', '__new__', '__reduce__', '__reduce_ex__', '__repr__', '__rmod__', '__rmul__', '__setattr__', '__sizeof__', '__str__', '__subclasshook__', 'capitalize', 'casefold', 'center', 'count', 'encode', 'endswith', 'expandtabs', 'find', 'format', 'format_map', 'index', 'isalnum', 'isalpha', 'isascii', 'isdecimal', 'isdigit', 'isidentifier', 'islower', 'isnumeric', 'isprintable', 'isspace', 'istitle', 'isupper', 'join', 'ljust', 'lower', 'lstrip', 'maketrans', 'partition', 'replace', 'rfind', 'rindex', 'rjust', 'rpartition', 'rsplit', 'rstrip', 'split', 'splitlines', 'startswith', 'strip', 'swapcase', 'title', 'translate', 'upper', 'zfill']\n"
     ]
    }
   ],
   "source": [
    "print(dir(str))"
   ]
  },
  {
   "cell_type": "code",
   "execution_count": 60,
   "metadata": {},
   "outputs": [
    {
     "name": "stdout",
     "output_type": "stream",
     "text": [
      "Python sessionssss\n",
      "python sessionssss\n",
      "   Python SeSSionSSSS   \n",
      "3\n",
      "7\n",
      "P#y#t#h#o#n# #S#e#S#S#i#o#n#S#S#S#S\n",
      "python sessionssss\n",
      "Python @e@@ion@@@@\n",
      "['Python', 'SeSSionSSSS']\n",
      "pYTHON sEssIONssss\n",
      "Python Sessionssss\n",
      "PYTHON SESSIONSSSS\n"
     ]
    }
   ],
   "source": [
    "s=\"Python SeSSionSSSS\"\n",
    "print(s.capitalize())\n",
    "print(s.casefold())\n",
    "print(s.center(24))\n",
    "print(s.count('SS'))\n",
    "print(s.index('S'))\n",
    "print(\"#\".join(s))\n",
    "print(s.lower())\n",
    "print(s.replace('S','@'))\n",
    "print(s.split(\" \"))\n",
    "print(s.swapcase())\n",
    "print(s.title())\n",
    "print(s.upper())"
   ]
  },
  {
   "cell_type": "markdown",
   "metadata": {},
   "source": [
    "# Functions:"
   ]
  },
  {
   "cell_type": "markdown",
   "metadata": {},
   "source": [
    " ```\n",
    " - To Perform a specific Task\n",
    " - To reduce the code and complexity of a problem\n",
    " \n",
    " Syntax: \n",
    "         def function_name(arguments):\n",
    "             return return_value\n",
    "``` "
   ]
  },
  {
   "cell_type": "markdown",
   "metadata": {},
   "source": [
    "```\n",
    "User Defined Functions:\n",
    "    - With return type and with arguments\n",
    "    - With return type and without arguments\n",
    "    - Without return type and with arguments\n",
    "    - Without return type and without arguments\n",
    "```"
   ]
  },
  {
   "cell_type": "markdown",
   "metadata": {},
   "source": [
    "### With return type and with arguments\n",
    "\n",
    "    - Reading -> Function Outer\n",
    "    - Logic   -> Function\n",
    "    - Printing-> Function Outer"
   ]
  },
  {
   "cell_type": "code",
   "execution_count": 63,
   "metadata": {},
   "outputs": [
    {
     "name": "stdout",
     "output_type": "stream",
     "text": [
      "4\n",
      "Given number 4 is Even\n"
     ]
    }
   ],
   "source": [
    "def cheod(m):\n",
    "    if m%2==0:\n",
    "        return 34\n",
    "    return 50\n",
    "\n",
    "n=int(input())\n",
    "if cheod(n)==34:\n",
    "    print(\"Given number {} is Even\".format(n))\n",
    "else:\n",
    "    print(\"Given number {} is Odd\".format(n))"
   ]
  },
  {
   "cell_type": "code",
   "execution_count": 65,
   "metadata": {},
   "outputs": [
    {
     "name": "stdout",
     "output_type": "stream",
     "text": [
      "1234\n",
      "Given number is: 1234 and its sum is: 10\n"
     ]
    }
   ],
   "source": [
    "def sumofdigits(k):\n",
    "    sum=0\n",
    "    while k!=0:\n",
    "        sum=sum+k%10\n",
    "        k=k//10\n",
    "    return sum\n",
    "\n",
    "n=int(input())\n",
    "print(\"Given number is: {} and its sum is: {}\".format(n,sumofdigits(n)))"
   ]
  },
  {
   "cell_type": "markdown",
   "metadata": {},
   "source": [
    "### With return type and without arguments\n",
    "\n",
    "    - Reading -> Function \n",
    "    - Logic   -> Function\n",
    "    - Printing-> Function Outer"
   ]
  },
  {
   "cell_type": "code",
   "execution_count": 71,
   "metadata": {},
   "outputs": [
    {
     "name": "stdout",
     "output_type": "stream",
     "text": [
      "123\n",
      "Given number is: 123 Not Palindrome\n"
     ]
    }
   ],
   "source": [
    "def checkpalin():\n",
    "    n=int(input())\n",
    "    k=n\n",
    "    rev=0\n",
    "    print(\"Given number is: {}\".format(k),end=\" \")\n",
    "    while n!=0:\n",
    "        rev=rev*10+n%10\n",
    "        n=n//10\n",
    "    if rev==k:\n",
    "        return 5\n",
    "    else:\n",
    "        return 11\n",
    "\n",
    "if checkpalin()==5:\n",
    "    print(\"Palindrome\")\n",
    "else:\n",
    "    print(\"Not Palindrome\")"
   ]
  },
  {
   "cell_type": "markdown",
   "metadata": {},
   "source": [
    "### Without return type and with arguments\n",
    "\n",
    "    - Reading -> Function Outer\n",
    "    - Logic   -> Function\n",
    "    - Printing-> Function "
   ]
  },
  {
   "cell_type": "code",
   "execution_count": 73,
   "metadata": {},
   "outputs": [
    {
     "name": "stdout",
     "output_type": "stream",
     "text": [
      "20\n",
      "0 2 4 6 8 10 12 14 16 18 20 "
     ]
    }
   ],
   "source": [
    "def printnatural(m):\n",
    "    for i in range(0,m+1,2):\n",
    "        print(i,end=\" \")\n",
    "    return\n",
    "\n",
    "n=int(input())\n",
    "printnatural(n)"
   ]
  },
  {
   "cell_type": "markdown",
   "metadata": {},
   "source": [
    "### Without return type and without arguments\n",
    "\n",
    "    - Reading -> Function\n",
    "    - Logic   -> Function\n",
    "    - Printing-> Function "
   ]
  },
  {
   "cell_type": "code",
   "execution_count": 74,
   "metadata": {},
   "outputs": [
    {
     "name": "stdout",
     "output_type": "stream",
     "text": [
      "5\n",
      "Given number is: 5 and its factorial is: 120\n"
     ]
    }
   ],
   "source": [
    "def factor():\n",
    "    n=int(input())\n",
    "    f=1\n",
    "    for i in range(n,1,-1):\n",
    "        f=f*i\n",
    "    print(\"Given number is: {} and its factorial is: {}\".format(n,f))\n",
    "    return\n",
    "\n",
    "factor()"
   ]
  },
  {
   "cell_type": "code",
   "execution_count": 75,
   "metadata": {},
   "outputs": [
    {
     "name": "stdout",
     "output_type": "stream",
     "text": [
      "45\n",
      "Given number is: 45 and its factorial is: 119622220865480194561963161495657715064383733760000000000\n"
     ]
    }
   ],
   "source": [
    "factor()"
   ]
  },
  {
   "cell_type": "markdown",
   "metadata": {},
   "source": [
    "Hackerrank Problem -> Leap"
   ]
  },
  {
   "cell_type": "markdown",
   "metadata": {},
   "source": [
    "# Data Structures:\n",
    "```\n",
    "- List       ->  []\n",
    "- Tuple      ->  ()\n",
    "- Set        ->  {}\n",
    "- Dictionary ->  {}\n",
    "```"
   ]
  },
  {
   "cell_type": "markdown",
   "metadata": {},
   "source": [
    "```\n",
    " - List -> [] -> list()\n",
    "        -> Immutable Data type elements (Changeable)\n",
    "        -> Ordered Data (index)\n",
    "        \n",
    " - Tuple -> () -> tuple()\n",
    "         -> Mutable Data type elements (Not Changeable)\n",
    "         -> Ordered Data (index)\n",
    "         \n",
    " - Set -> {} -> set()\n",
    "       -> Immutable Data type elements (Changeable)\n",
    "       -> Unordered Data (no index)\n",
    "       -> To remove Duplicate values\n",
    " \n",
    " - Dictionary -> {} -> Collections (key,value)\n",
    "              -> {key_name:value} \n",
    "              -> {sno:'123',name:'Raju'}\n",
    "              -> Immutable Data type elements (Changeable)\n",
    "              -> Ordered Data (index)\n",
    "              -> items() -> {key:value}\n",
    "              \n",
    "              \n",
    "    List <-> Tuple <-> Set\n",
    "```"
   ]
  },
  {
   "cell_type": "code",
   "execution_count": 85,
   "metadata": {},
   "outputs": [
    {
     "name": "stdout",
     "output_type": "stream",
     "text": [
      "1\n",
      "Suresh\n",
      "[1, '3', '45.00', 45.7899, 'Raju', 'Suresh']\n",
      "<class 'list'>\n",
      "[1, '3', '45.00', 45.7899, 'Raju', 'Suresh']\n",
      "['45.00', 45.7899, 'Raju']\n",
      "['Raju', 45.7899, '45.00']\n"
     ]
    }
   ],
   "source": [
    "l=[1,'3','45.00',45.7899,\"Raju\",\"Suresh\"]\n",
    "print(l[0])\n",
    "print(l[-1])\n",
    "print(l)\n",
    "print(type(l))\n",
    "print(l[:])\n",
    "print(l[2:-1])\n",
    "print(l[4:1:-1])"
   ]
  },
  {
   "cell_type": "code",
   "execution_count": 89,
   "metadata": {},
   "outputs": [
    {
     "name": "stdout",
     "output_type": "stream",
     "text": [
      "4 5 85 6 7 23 45\n",
      "['4', '5', '85', '6', '7', '23', '45']\n",
      "<class 'list'>\n"
     ]
    }
   ],
   "source": [
    "n=input()\n",
    "n=n.split()\n",
    "print(n)\n",
    "print(type(n))"
   ]
  },
  {
   "cell_type": "code",
   "execution_count": 90,
   "metadata": {},
   "outputs": [
    {
     "name": "stdout",
     "output_type": "stream",
     "text": [
      "['__add__', '__class__', '__contains__', '__delattr__', '__delitem__', '__dir__', '__doc__', '__eq__', '__format__', '__ge__', '__getattribute__', '__getitem__', '__gt__', '__hash__', '__iadd__', '__imul__', '__init__', '__init_subclass__', '__iter__', '__le__', '__len__', '__lt__', '__mul__', '__ne__', '__new__', '__reduce__', '__reduce_ex__', '__repr__', '__reversed__', '__rmul__', '__setattr__', '__setitem__', '__sizeof__', '__str__', '__subclasshook__', 'append', 'clear', 'copy', 'count', 'extend', 'index', 'insert', 'pop', 'remove', 'reverse', 'sort']\n"
     ]
    }
   ],
   "source": [
    "print(dir(list))"
   ]
  },
  {
   "cell_type": "code",
   "execution_count": 97,
   "metadata": {},
   "outputs": [
    {
     "name": "stdout",
     "output_type": "stream",
     "text": [
      "450\n",
      "[2, 45, '67', 78, 45, 45, 45, 45]\n",
      "[450]\n",
      "[450, 2, 45, '67', 78, 45, 45, 45, 45]\n",
      "1\n",
      "5\n",
      "3\n",
      "[2, 45, '67', 78, 45, 45, 300, 45, 45]\n"
     ]
    }
   ],
   "source": [
    "l=[2,45,'67',78,45,45,45,45]\n",
    "k=[]\n",
    "n=int(input())\n",
    "k.append(n)\n",
    "print(l)\n",
    "print(k)\n",
    "k.extend(l)\n",
    "print(k)\n",
    "print(k.count(n))\n",
    "print(l.count(45))\n",
    "print(l.index(78))\n",
    "l.insert(6,300)\n",
    "print(l)"
   ]
  },
  {
   "cell_type": "code",
   "execution_count": 104,
   "metadata": {},
   "outputs": [
    {
     "name": "stdout",
     "output_type": "stream",
     "text": [
      "[23, 45, 56, 90, 230]\n",
      "[230, 90, 56, 45, 23]\n",
      "[230, 90, 56, 45]\n",
      "[45, 56, 90, 230]\n",
      "[45, 56, 230]\n",
      "3\n",
      "[]\n"
     ]
    }
   ],
   "source": [
    "li=[45,56,23,90,230]\n",
    "li.sort()\n",
    "print(li)\n",
    "li.sort(reverse=True)\n",
    "print(li)\n",
    "li.pop()\n",
    "print(li)\n",
    "li.reverse()\n",
    "print(li)\n",
    "li.remove(90)\n",
    "print(li)\n",
    "print(len(li))\n",
    "li.clear()\n",
    "print(li)"
   ]
  },
  {
   "cell_type": "code",
   "execution_count": 105,
   "metadata": {},
   "outputs": [
    {
     "data": {
      "text/plain": [
       "[]"
      ]
     },
     "execution_count": 105,
     "metadata": {},
     "output_type": "execute_result"
    }
   ],
   "source": [
    "li"
   ]
  },
  {
   "cell_type": "code",
   "execution_count": 106,
   "metadata": {},
   "outputs": [
    {
     "name": "stdout",
     "output_type": "stream",
     "text": [
      "4 3 34 23 45 2345\n",
      "['4', '3', '34', '23', '45', '2345']\n",
      "[4, 3, 34, 23, 45, 2345]\n"
     ]
    }
   ],
   "source": [
    "n=input()\n",
    "n=n.split()\n",
    "k=[]\n",
    "print(n)\n",
    "for i in n:\n",
    "    k.append(int(i))\n",
    "    print(k)"
   ]
  },
  {
   "cell_type": "code",
   "execution_count": 110,
   "metadata": {},
   "outputs": [
    {
     "name": "stdout",
     "output_type": "stream",
     "text": [
      "4\n",
      "12\n",
      "2\n",
      "3\n",
      "5\n",
      "Given list is: [12, 2, 3, 5]\n",
      "Even numbers in list is: [12, 2] and its sum is: 14\n",
      "Odd numbers in list is: [3, 5] and its sum is: 8\n"
     ]
    }
   ],
   "source": [
    "def Evnoddli(k):\n",
    "    evn=[]\n",
    "    odd=[]\n",
    "    for i in k:\n",
    "        if i%2==0:\n",
    "            evn.append(i)\n",
    "        else:\n",
    "            odd.append(i)\n",
    "    print(\"Given list is: {}\".format(k))\n",
    "    print(\"Even numbers in list is: {} and its sum is: {}\"\n",
    "          .format(evn,sum(evn)))\n",
    "    print(\"Odd numbers in list is: {} and its sum is: {}\"\n",
    "          .format(odd,sum(odd)))\n",
    "    return\n",
    "\n",
    "n=int(input())\n",
    "li=[]\n",
    "for i in range(1,n+1):\n",
    "    m=int(input())\n",
    "    li.append(m)\n",
    "Evnoddli(li)"
   ]
  },
  {
   "cell_type": "code",
   "execution_count": 112,
   "metadata": {},
   "outputs": [
    {
     "name": "stdout",
     "output_type": "stream",
     "text": [
      "(2, '34', 34.5, '32.0', 'Kiran')\n",
      "2\n",
      "Kiran\n"
     ]
    }
   ],
   "source": [
    "t=(2,'34',34.500,'32.0',\"Kiran\")\n",
    "print(t)\n",
    "print(t[0])\n",
    "print(t[-1])"
   ]
  },
  {
   "cell_type": "code",
   "execution_count": 113,
   "metadata": {},
   "outputs": [
    {
     "name": "stdout",
     "output_type": "stream",
     "text": [
      "['__add__', '__class__', '__contains__', '__delattr__', '__dir__', '__doc__', '__eq__', '__format__', '__ge__', '__getattribute__', '__getitem__', '__getnewargs__', '__gt__', '__hash__', '__init__', '__init_subclass__', '__iter__', '__le__', '__len__', '__lt__', '__mul__', '__ne__', '__new__', '__reduce__', '__reduce_ex__', '__repr__', '__rmul__', '__setattr__', '__sizeof__', '__str__', '__subclasshook__', 'count', 'index']\n"
     ]
    }
   ],
   "source": [
    "print(dir(tuple))"
   ]
  },
  {
   "cell_type": "code",
   "execution_count": 115,
   "metadata": {},
   "outputs": [
    {
     "name": "stdout",
     "output_type": "stream",
     "text": [
      "1\n",
      "0\n"
     ]
    }
   ],
   "source": [
    "t=(34,45,5,67,23,45)\n",
    "print(t.count(5))\n",
    "print(t.index(34))"
   ]
  },
  {
   "cell_type": "code",
   "execution_count": 119,
   "metadata": {},
   "outputs": [
    {
     "name": "stdout",
     "output_type": "stream",
     "text": [
      "(34, 4, 23, 0, 95, 3, 3, 4)\n",
      "<class 'tuple'>\n",
      "[34, 4, 23, 0, 95, 3, 3, 4]\n",
      "<class 'list'>\n",
      "[0, 3, 3, 4, 4, 23, 34, 95]\n",
      "(0, 3, 3, 4, 4, 23, 34, 95)\n"
     ]
    }
   ],
   "source": [
    "t=(34,4,23,0,95,3,3,4)\n",
    "k=list(t)\n",
    "print(t)\n",
    "print(type(t))\n",
    "print(k)\n",
    "print(type(k))\n",
    "k.sort()\n",
    "print(k)\n",
    "l=tuple(k)\n",
    "print(l)"
   ]
  },
  {
   "cell_type": "code",
   "execution_count": 120,
   "metadata": {},
   "outputs": [
    {
     "name": "stdout",
     "output_type": "stream",
     "text": [
      "{'23', '45.00', 5, 45.0, '4', 'Raju'}\n"
     ]
    }
   ],
   "source": [
    "s={'23','4',5,\"Raju\",'45.00',45.00}\n",
    "print(s)"
   ]
  },
  {
   "cell_type": "code",
   "execution_count": 121,
   "metadata": {},
   "outputs": [
    {
     "name": "stdout",
     "output_type": "stream",
     "text": [
      "['__and__', '__class__', '__contains__', '__delattr__', '__dir__', '__doc__', '__eq__', '__format__', '__ge__', '__getattribute__', '__gt__', '__hash__', '__iand__', '__init__', '__init_subclass__', '__ior__', '__isub__', '__iter__', '__ixor__', '__le__', '__len__', '__lt__', '__ne__', '__new__', '__or__', '__rand__', '__reduce__', '__reduce_ex__', '__repr__', '__ror__', '__rsub__', '__rxor__', '__setattr__', '__sizeof__', '__str__', '__sub__', '__subclasshook__', '__xor__', 'add', 'clear', 'copy', 'difference', 'difference_update', 'discard', 'intersection', 'intersection_update', 'isdisjoint', 'issubset', 'issuperset', 'pop', 'remove', 'symmetric_difference', 'symmetric_difference_update', 'union', 'update']\n"
     ]
    }
   ],
   "source": [
    "print(dir(set))"
   ]
  },
  {
   "cell_type": "code",
   "execution_count": 124,
   "metadata": {},
   "outputs": [
    {
     "name": "stdout",
     "output_type": "stream",
     "text": [
      "{2, 3, 578, 34, 5, 45}\n",
      "{2, 3, 578, 34, 5, 45, 56}\n"
     ]
    }
   ],
   "source": [
    "s={2,45,2,34,578,34,2,3,5}\n",
    "print(s)\n",
    "s.add(56)\n",
    "print(s)"
   ]
  },
  {
   "cell_type": "code",
   "execution_count": 127,
   "metadata": {},
   "outputs": [
    {
     "name": "stdout",
     "output_type": "stream",
     "text": [
      "{3, 4, 5, 6, 78}\n",
      "{34, 3, 4, 56, 25}\n"
     ]
    }
   ],
   "source": [
    "s={3,4,5,6,78}\n",
    "s1={3,4,56,34,25}\n",
    "s.difference(s1)\n",
    "print(s)\n",
    "s1.difference(s)\n",
    "print(s1)"
   ]
  },
  {
   "cell_type": "code",
   "execution_count": 135,
   "metadata": {},
   "outputs": [
    {
     "name": "stdout",
     "output_type": "stream",
     "text": [
      "{34, 3, 4, 67, 5, 45, 78, 56}\n",
      "{34, 3, 4, 67, 45, 78, 56}\n",
      "{34}\n",
      "set()\n"
     ]
    }
   ],
   "source": [
    "k={34,3,4,56,78}\n",
    "l={34,5,67,45}\n",
    "p=k.union(l)\n",
    "ll=k.intersection(l)\n",
    "print(p)\n",
    "p.remove(5)\n",
    "print(p)\n",
    "print(ll)\n",
    "ll.pop()\n",
    "print(ll)"
   ]
  },
  {
   "cell_type": "code",
   "execution_count": 139,
   "metadata": {},
   "outputs": [
    {
     "name": "stdout",
     "output_type": "stream",
     "text": [
      "{7, 8, 234, 45, 90}\n",
      "set()\n"
     ]
    }
   ],
   "source": [
    "m={234,34,45,6,7,8,90}\n",
    "m.pop()\n",
    "m.remove(6)\n",
    "print(m)\n",
    "m.clear()\n",
    "print(m)"
   ]
  },
  {
   "cell_type": "markdown",
   "metadata": {},
   "source": [
    "```\n",
    "11\n",
    "\n",
    "34 5 5 34 6 7 8 4 6 2 1 \n",
    "34 5 6 7 8 4 2 1\n",
    "1 2 4 5 6 7 8 34\n",
    "\n",
    "task:\n",
    "    \n",
    "    5\n",
    "    4 4 2 2 1\n",
    "    4 -> 2\n",
    "    2 -> 2\n",
    "    1 -> 1\n",
    "    ```"
   ]
  },
  {
   "cell_type": "markdown",
   "metadata": {},
   "source": [
    "```\n",
    "https://github.com/nrkravikumar\n",
    "    \n",
    "SKUCET\n",
    "    ```"
   ]
  },
  {
   "cell_type": "code",
   "execution_count": 142,
   "metadata": {},
   "outputs": [
    {
     "name": "stdout",
     "output_type": "stream",
     "text": [
      "11\n",
      "34\n",
      "5\n",
      "5\n",
      "34\n",
      "6\n",
      "7\n",
      "8\n",
      "4\n",
      "6\n",
      "2\n",
      "1\n",
      "[34, 5, 5, 34, 6, 7, 8, 4, 6, 2, 1]\n",
      "{1, 34, 2, 4, 5, 6, 7, 8}\n",
      "[1, 34, 2, 4, 5, 6, 7, 8]\n",
      "[1, 2, 4, 5, 6, 7, 8, 34]\n"
     ]
    }
   ],
   "source": [
    "def sortunor(k):\n",
    "    ll=set(k)\n",
    "    print(ll)\n",
    "    li=list(ll)\n",
    "    print(li)\n",
    "    li.sort()\n",
    "    print(li)\n",
    "    return\n",
    "\n",
    "n=int(input())\n",
    "l=[]\n",
    "for i in range(1,n+1):\n",
    "    m=int(input())\n",
    "    l.append(m)\n",
    "print(l)\n",
    "sortunor(l)"
   ]
  },
  {
   "cell_type": "code",
   "execution_count": null,
   "metadata": {},
   "outputs": [],
   "source": []
  }
 ],
 "metadata": {
  "kernelspec": {
   "display_name": "Python 3",
   "language": "python",
   "name": "python3"
  },
  "language_info": {
   "codemirror_mode": {
    "name": "ipython",
    "version": 3
   },
   "file_extension": ".py",
   "mimetype": "text/x-python",
   "name": "python",
   "nbconvert_exporter": "python",
   "pygments_lexer": "ipython3",
   "version": "3.7.3"
  }
 },
 "nbformat": 4,
 "nbformat_minor": 2
}
